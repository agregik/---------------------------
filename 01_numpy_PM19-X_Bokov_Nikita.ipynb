{
 "cells": [
  {
   "cell_type": "markdown",
   "metadata": {},
   "source": [
    "# Numpy"
   ]
  },
  {
   "cell_type": "markdown",
   "metadata": {},
   "source": [
    "Материалы:\n",
    "* Макрушин С.В. \"Лекция 1: Библиотека Numpy\"\n",
    "* https://numpy.org/doc/stable/user/index.html\n",
    "* https://numpy.org/doc/stable/reference/index.html"
   ]
  },
  {
   "cell_type": "markdown",
   "metadata": {},
   "source": [
    "## Задачи для совместного разбора"
   ]
  },
  {
   "cell_type": "markdown",
   "metadata": {},
   "source": [
    "1. Сгенерировать двухмерный массив `arr` размерности (4, 7), состоящий из случайных действительных чисел, равномерно распределенных в диапазоне от 0 до 20. Нормализовать значения массива с помощью преобразования вида  $𝑎𝑥+𝑏$  так, что после нормализации максимальный элемент масcива будет равен 1.0, минимальный 0.0"
   ]
  },
  {
   "cell_type": "code",
   "execution_count": null,
   "metadata": {},
   "outputs": [],
   "source": [
    "import numpy as np"
   ]
  },
  {
   "cell_type": "code",
   "execution_count": 2,
   "metadata": {},
   "outputs": [],
   "source": [
    "import numpy as np\n",
    "def normalize_array(arr):\n",
    "    max_val = arr.max()\n",
    "    min_val = arr.min()\n",
    "    offset = -min_val\n",
    "    scale = 1 / (max_val - min_val)\n",
    "    return (arr + offset) * scale"
   ]
  },
  {
   "cell_type": "code",
   "execution_count": 3,
   "metadata": {},
   "outputs": [
    {
     "name": "stdout",
     "output_type": "stream",
     "text": [
      "[[ 1.31603725 13.70771885  7.15203357  4.48954638  7.98345175 15.55491645\n",
      "   8.48701703]\n",
      " [17.92532929 18.9380862  13.75933595 19.76352768 19.72368538  5.03525469\n",
      "  10.93687232]\n",
      " [ 4.38679594 17.23896247  0.34724836  0.40074556 19.60730842  1.3826411\n",
      "   5.00651039]\n",
      " [ 6.22193185 17.38555839  9.0572901   5.30201662  0.0390049  12.27114624\n",
      "  19.66228041]]\n"
     ]
    }
   ],
   "source": [
    "import numpy as np \n",
    "arr = np.random.uniform(0, 20, size=(4, 7))\n",
    "print(arr)"
   ]
  },
  {
   "cell_type": "code",
   "execution_count": 4,
   "metadata": {},
   "outputs": [
    {
     "name": "stdout",
     "output_type": "stream",
     "text": [
      "Исходный массив:\n",
      "[[ 1.31603725 13.70771885  7.15203357  4.48954638  7.98345175 15.55491645\n",
      "   8.48701703]\n",
      " [17.92532929 18.9380862  13.75933595 19.76352768 19.72368538  5.03525469\n",
      "  10.93687232]\n",
      " [ 4.38679594 17.23896247  0.34724836  0.40074556 19.60730842  1.3826411\n",
      "   5.00651039]\n",
      " [ 6.22193185 17.38555839  9.0572901   5.30201662  0.0390049  12.27114624\n",
      "  19.66228041]]\n",
      "Нормализованный массив:\n",
      "[[0.06474338 0.69298072 0.36061854 0.22563494 0.40277004 0.78663052\n",
      "  0.42829995]\n",
      " [0.90680645 0.95815151 0.69559762 1.         0.99798006 0.25330143\n",
      "  0.55250348]\n",
      " [0.22042566 0.87200881 0.01562742 0.01833964 0.99207995 0.06812009\n",
      "  0.25184414]\n",
      " [0.31346396 0.87944097 0.45721183 0.26682581 0.         0.62014891\n",
      "  0.99486693]]\n"
     ]
    }
   ],
   "source": [
    "normalized_arr = normalize_array(arr)\n",
    "print('Исходный массив:')\n",
    "print(arr)\n",
    "print('Нормализованный массив:')\n",
    "print(normalized_arr)"
   ]
  },
  {
   "cell_type": "markdown",
   "metadata": {},
   "source": [
    "2. Создать матрицу 8 на 10 из случайных целых (используя модуль `numpy.random`) чисел из диапозона от 0 до 10 и найти в ней строку (ее индекс и вывести саму строку), в которой сумма значений минимальна."
   ]
  },
  {
   "cell_type": "code",
   "execution_count": 5,
   "metadata": {},
   "outputs": [
    {
     "name": "stdout",
     "output_type": "stream",
     "text": [
      "Индекс строки с минимальной суммой: 3\n",
      "Сама строка с минимальной суммой:\n",
      "[ 8  3  4  1 10  6  1  6  2  0]\n"
     ]
    }
   ],
   "source": [
    "matrix = np.random.randint(0, 11, size=(8, 10))\n",
    "sums = matrix.sum(axis=1)\n",
    "min_index = sums.argmin()\n",
    "print('Индекс строки с минимальной суммой:', min_index)\n",
    "print('Сама строка с минимальной суммой:')\n",
    "print(matrix[min_index])"
   ]
  },
  {
   "cell_type": "markdown",
   "metadata": {},
   "source": [
    "3. Найти евклидово расстояние между двумя одномерными векторами одинаковой размерности."
   ]
  },
  {
   "cell_type": "code",
   "execution_count": null,
   "metadata": {},
   "outputs": [],
   "source": [
    "import math\n",
    "dist = math.sqrt(sum([pow(a[i] - b[i], 2)] for i in range(len(a))))\n",
    "# Где a и b - векторы, pow - возведение в степень, sum - сумма элементов списка, range - генератор диапазона, len - длина списка"
   ]
  },
  {
   "cell_type": "markdown",
   "metadata": {},
   "source": [
    "4. Решить матричное уравнение `A*X*B=-C` - найти матрицу `X`. Где `A = [[-1, 2, 4], [-3, 1, 2], [-3, 0, 1]]`, `B=[[3, -1], [2, 1]]`, `C=[[7, 21], [11, 8], [8, 4]]`."
   ]
  },
  {
   "cell_type": "code",
   "execution_count": 6,
   "metadata": {},
   "outputs": [
    {
     "name": "stdout",
     "output_type": "stream",
     "text": [
      "[[  7.  -4.]\n",
      " [ -6.   7.]\n",
      " [-11.  -8.]]\n"
     ]
    }
   ],
   "source": [
    "import numpy as np\n",
    "\n",
    "A = np.array([[-1, 2, 4], [-3, 1, 2], [-3, 0, 1]])\n",
    "B = np.array([[3, -1], [2, 1]])\n",
    "C = np.array([[7, 21], [11, 8], [8, 4]])\n",
    "\n",
    "# Сначала найдем обратную матрицу A\n",
    "At = np.linalg.inv(A)\n",
    "# Вычислим (A^(-1)) * C\n",
    "temp = np.dot(At, C)\n",
    "# Найдем решение X как -temp * B\n",
    "X = -1 * np.dot(temp, B)\n",
    "print(X)"
   ]
  },
  {
   "cell_type": "markdown",
   "metadata": {},
   "source": [
    "## Лабораторная работа №1"
   ]
  },
  {
   "cell_type": "markdown",
   "metadata": {},
   "source": [
    "Замечание: при решении данных задач не подразумевается использования циклов или генераторов Python, если в задании не сказано обратного. Решение должно опираться на использования функционала библиотеки `numpy`."
   ]
  },
  {
   "cell_type": "markdown",
   "metadata": {},
   "source": [
    "1. Файл `minutes_n_ingredients.csv` содержит информацию об идентификаторе рецепта, времени его выполнения в минутах и количестве необходимых ингредиентов. Считайте данные из этого файла в виде массива `numpy` типа `int32`, используя `np.loadtxt`. Выведите на экран первые 5 строк массива."
   ]
  },
  {
   "cell_type": "code",
   "execution_count": 15,
   "metadata": {},
   "outputs": [
    {
     "name": "stdout",
     "output_type": "stream",
     "text": [
      "[[1.27244e+05 6.00000e+01 1.60000e+01]\n",
      " [2.38910e+04 2.50000e+01 7.00000e+00]\n",
      " [9.47460e+04 1.00000e+01 6.00000e+00]\n",
      " [6.76600e+04 5.00000e+00 6.00000e+00]\n",
      " [1.57911e+05 6.00000e+01 1.40000e+01]]\n"
     ]
    }
   ],
   "source": [
    "import numpy as np \n",
    "data = np.loadtxt('file.csv', delimiter=',')\n",
    "print(data[0:5])"
   ]
  },
  {
   "cell_type": "markdown",
   "metadata": {},
   "source": [
    "2. Вычислите среднее значение, минимум, максимум и медиану по каждому из столбцов, кроме первого."
   ]
  },
  {
   "cell_type": "code",
   "execution_count": 21,
   "metadata": {},
   "outputs": [
    {
     "name": "stdout",
     "output_type": "stream",
     "text": [
      "[2.22065272e+05 2.16012171e+04 9.05521055e+00]\n",
      "[38.  0.  1.]\n",
      "[5.37671000e+05 2.14748365e+09 3.90000000e+01]\n",
      "[2.07196e+05 4.00000e+01 9.00000e+00]\n"
     ]
    }
   ],
   "source": [
    "means = np.mean(data[1:], axis=0)\n",
    "print(means)\n",
    "min_ = np.min(data[1:],0)\n",
    "print(min_)\n",
    "max_ = np.max(data[1:],0)\n",
    "print(max_)\n",
    "mediana = np.median(data[1:],0)\n",
    "print(mediana)"
   ]
  },
  {
   "cell_type": "markdown",
   "metadata": {},
   "source": [
    "3. Ограничьте сверху значения продолжительности выполнения рецепта значением квантиля $q_{0.75}$. "
   ]
  },
  {
   "cell_type": "code",
   "execution_count": null,
   "metadata": {},
   "outputs": [],
   "source": [
    "from scipy.stats import qnorm\n",
    "import numpy as np\n",
    "\n",
    "quantile = 0.75 \n",
    "upper_limit = qnorm.ppf(quantile) \n",
    "\n",
    "data = np.random.normal(loc=0, scale=1, size=1000)\n",
    "data_capped = np.minimum(data, upper_limit)"
   ]
  },
  {
   "cell_type": "markdown",
   "metadata": {},
   "source": [
    "4. Посчитайте, для скольких рецептов указана продолжительность, равная нулю. Замените для таких строк значение в данном столбце на 1."
   ]
  },
  {
   "cell_type": "code",
   "execution_count": 23,
   "metadata": {},
   "outputs": [],
   "source": [
    "data[data == 0] = 1"
   ]
  },
  {
   "cell_type": "markdown",
   "metadata": {},
   "source": [
    "5. Посчитайте, сколько уникальных рецептов находится в датасете."
   ]
  },
  {
   "cell_type": "code",
   "execution_count": 24,
   "metadata": {},
   "outputs": [
    {
     "name": "stdout",
     "output_type": "stream",
     "text": [
      "100544\n"
     ]
    }
   ],
   "source": [
    "print(len(np.unique(data)))"
   ]
  },
  {
   "cell_type": "markdown",
   "metadata": {},
   "source": [
    "6. Сколько и каких различных значений кол-ва ингредиентов присутвует в рецептах из датасета?"
   ]
  },
  {
   "cell_type": "code",
   "execution_count": 25,
   "metadata": {},
   "outputs": [
    {
     "name": "stdout",
     "output_type": "stream",
     "text": [
      "100544\n",
      "[1.00000000e+00 2.00000000e+00 3.00000000e+00 ... 5.37485000e+05\n",
      " 5.37671000e+05 2.14748365e+09]\n"
     ]
    }
   ],
   "source": [
    "print(len(np.unique(data)))\n",
    "print(np.unique(data))"
   ]
  },
  {
   "cell_type": "markdown",
   "metadata": {},
   "source": [
    "7. Создайте версию массива, содержащую информацию только о рецептах, состоящих не более чем из 5 ингредиентов."
   ]
  },
  {
   "cell_type": "code",
   "execution_count": null,
   "metadata": {},
   "outputs": [],
   "source": [
    "recipes_with_5_ingredients = [recipe for recipe in data if len(recipe[1]) <= 5]"
   ]
  },
  {
   "cell_type": "markdown",
   "metadata": {},
   "source": [
    "8. Для каждого рецепта посчитайте, сколько в среднем ингредиентов приходится на одну минуту рецепта. Найдите максимальное значение этой величины для всего датасета"
   ]
  },
  {
   "cell_type": "code",
   "execution_count": null,
   "metadata": {},
   "outputs": [],
   "source": [
    "data['ingredients_per_minute'] = (data['ingredients'] / data['time']).apply(np.maximum, axis=1)\n",
    "maximum = data['ingredients_per_minute'].max()"
   ]
  },
  {
   "cell_type": "markdown",
   "metadata": {},
   "source": [
    "9. Вычислите среднее количество ингредиентов для топ-100 рецептов с наибольшей продолжительностью"
   ]
  },
  {
   "cell_type": "code",
   "execution_count": null,
   "metadata": {},
   "outputs": [],
   "source": [
    "import numpy as np\n",
    "print(np.sort(data))\n",
    "print(sum(data[0:101]) // 100)"
   ]
  },
  {
   "cell_type": "markdown",
   "metadata": {},
   "source": [
    "10. Выберите случайным образом и выведите информацию о 10 различных рецептах"
   ]
  },
  {
   "cell_type": "code",
   "execution_count": null,
   "metadata": {},
   "outputs": [],
   "source": [
    "import numpy as np \n",
    "n = 10\n",
    "result = np.random.choice(data, n)"
   ]
  },
  {
   "cell_type": "markdown",
   "metadata": {},
   "source": [
    "11. Выведите процент рецептов, кол-во ингредиентов в которых меньше среднего."
   ]
  },
  {
   "cell_type": "code",
   "execution_count": null,
   "metadata": {},
   "outputs": [],
   "source": [
    "mean_ingredients_count = data['ingredients'].mean()\n",
    "percentage = (data['ingredients'] < mean_ingredients_count).mean() * 100\n",
    "print(percentage)"
   ]
  },
  {
   "cell_type": "markdown",
   "metadata": {},
   "source": [
    "12. Назовем \"простым\" такой рецепт, длительность выполнения которого не больше 20 минут и кол-во ингредиентов в котором не больше 5. Создайте версию датасета с дополнительным столбцом, значениями которого являются 1, если рецепт простой, и 0 в противном случае."
   ]
  },
  {
   "cell_type": "code",
   "execution_count": null,
   "metadata": {},
   "outputs": [],
   "source": [
    "data['simple_recipe'] = np.where((data['time'] <= 20) & (data['ingredients'] <= 5), 1, 0)"
   ]
  },
  {
   "cell_type": "markdown",
   "metadata": {},
   "source": [
    "13. Выведите процент \"простых\" рецептов в датасете"
   ]
  },
  {
   "cell_type": "code",
   "execution_count": null,
   "metadata": {},
   "outputs": [],
   "source": [
    "percentage = (data['simple_recipe'] == 1).mean() * 100\n",
    "print(percentage)"
   ]
  },
  {
   "cell_type": "markdown",
   "metadata": {},
   "source": [
    "14. Разделим рецепты на группы по следующему правилу. Назовем рецепты короткими, если их продолжительность составляет менее 10 минут; стандартными, если их продолжительность составляет более 10, но менее 20 минут; и длинными, если их продолжительность составляет не менее 20 минут. Создайте трехмерный массив, где нулевая ось отвечает за номер группы (короткий, стандартный или длинный рецепт), первая ось - за сам рецепт и вторая ось - за характеристики рецепта. Выберите максимальное количество рецептов из каждой группы таким образом, чтобы было возможно сформировать трехмерный массив. Выведите форму полученного массива."
   ]
  }
 ],
 "metadata": {
  "kernelspec": {
   "display_name": "Python 3 (ipykernel)",
   "language": "python",
   "name": "python3"
  },
  "language_info": {
   "codemirror_mode": {
    "name": "ipython",
    "version": 3
   },
   "file_extension": ".py",
   "mimetype": "text/x-python",
   "name": "python",
   "nbconvert_exporter": "python",
   "pygments_lexer": "ipython3",
   "version": "3.11.2"
  }
 },
 "nbformat": 4,
 "nbformat_minor": 4
}
